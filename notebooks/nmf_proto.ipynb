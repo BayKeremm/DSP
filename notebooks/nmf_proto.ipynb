{
 "cells": [
  {
   "cell_type": "code",
   "execution_count": 43,
   "metadata": {},
   "outputs": [],
   "source": [
    "%matplotlib inline\n",
    "import numpy as np, scipy, matplotlib.pyplot as plt, sklearn, IPython.display as ipd\n",
    "import librosa, librosa.display\n",
    "import warnings\n",
    "warnings.simplefilter(\"ignore\")\n",
    "from midiutil import MIDIFile             #http://midiutil.readthedocs.io/en/1.2.1/\n",
    "from music21.tempo import MetronomeMark   #http://web.mit.edu/music21/\n",
    "from music21.note import Note, Rest\n",
    "from music21.stream import Stream\n",
    "from music21 import metadata\n",
    "from music21 import instrument\n",
    "from music21 import midi \n",
    "from music21.key import Key\n",
    "import json\n",
    "import muspy"
   ]
  },
  {
   "cell_type": "markdown",
   "metadata": {},
   "source": [
    "Next steps:\n",
    "\n",
    "- add dictionary for notes with a range\n",
    "- convert to staff notation\n",
    "- estimate tempo"
   ]
  },
  {
   "cell_type": "code",
   "execution_count": null,
   "metadata": {},
   "outputs": [],
   "source": [
    "x, sr = librosa.load(\"../../data/grandpiano.wav\",duration=10)"
   ]
  },
  {
   "cell_type": "code",
   "execution_count": null,
   "metadata": {},
   "outputs": [],
   "source": [
    "ipd.Audio(x,rate=sr)"
   ]
  },
  {
   "cell_type": "code",
   "execution_count": null,
   "metadata": {},
   "outputs": [],
   "source": [
    "plt.figure(figsize=(14, 5))\n",
    "librosa.display.waveshow(x,sr)"
   ]
  },
  {
   "cell_type": "code",
   "execution_count": null,
   "metadata": {},
   "outputs": [],
   "source": [
    "S = librosa.stft(x)\n",
    "S_db = librosa.amplitude_to_db(abs(S))\n",
    "plt.figure(figsize=(14, 4))\n",
    "librosa.display.specshow(S, sr=sr, x_axis='time', y_axis='log')\n",
    "plt.colorbar()"
   ]
  },
  {
   "cell_type": "code",
   "execution_count": null,
   "metadata": {},
   "outputs": [],
   "source": [
    "X, X_phase = librosa.magphase(S)\n",
    "onsets = librosa.onset.onset_detect(y=x, sr=sr, units='time')\n",
    "n_components = len(onsets)\n",
    "W, H = librosa.decompose.decompose(X,n_components=n_components, sort=True)"
   ]
  },
  {
   "cell_type": "code",
   "execution_count": null,
   "metadata": {},
   "outputs": [],
   "source": [
    "S.shape\n",
    "x.shape\n",
    "H[1].shape"
   ]
  },
  {
   "cell_type": "markdown",
   "metadata": {},
   "source": [
    "W contains information about the frequencies\\\n",
    "H contains information about temporal properties."
   ]
  },
  {
   "cell_type": "code",
   "execution_count": null,
   "metadata": {},
   "outputs": [],
   "source": [
    "plt.figure(figsize=(20, 10))\n",
    "for n in range(n_components):\n",
    "    plt.subplot(5, 5, n+1)\n",
    "    plt.plot(W[:,n])\n",
    "    plt.ylim(-1, W.max())\n",
    "    plt.xlim(0, W.shape[0])\n",
    "    plt.ylabel('Component %d' % n)\n",
    "    print(np.argmax(W[:,n]) * 11025/1025)"
   ]
  },
  {
   "cell_type": "code",
   "execution_count": null,
   "metadata": {},
   "outputs": [],
   "source": [
    "plt.figure(figsize=(20, 10))\n",
    "for n in range(n_components):\n",
    "    plt.subplot(5, 5, n+1)\n",
    "    plt.plot(H[n])\n",
    "    plt.ylim(0, H.max())\n",
    "    plt.xlim(0, H.shape[1])\n",
    "    plt.ylabel('Component %d' % n)"
   ]
  },
  {
   "cell_type": "code",
   "execution_count": 69,
   "metadata": {},
   "outputs": [
    {
     "name": "stdout",
     "output_type": "stream",
     "text": [
      "[[0.023, 63.044, 0.047], [0.023, 70.651, 0.047], [0.023, 77.798, 0.047], [0.07, 66.788, 0.069], [0.139, 77.017, 0.418], [0.557, 75.044, 0.51], [1.067, 79.495, 0.023], [1.09, 79.027, 1.207], [2.297, 79.495, 0.023], [2.32, 79.027, 0.163], [2.483, 81.249, 0.116], [2.599, 81.039, 0.046], [2.645, 79.495, 0.023], [2.645, 82.262, 0.023], [2.668, 69.864, 0.023], [2.668, 70.651, 0.023], [2.668, 82.262, 0.023], [2.691, 79.027, 1.021], [2.691, 82.064, 1.021], [3.712, 82.262, 0.186], [3.898, 84.301, 0.023], [3.921, 83.948, 0.139], [4.06, 79.495, 0.024], [4.06, 86.282, 0.024], [4.084, 69.864, 0.023], [4.107, 85.967, 0.301], [4.408, 84.301, 0.348], [4.756, 82.262, 0.024], [4.78, 82.262, 0.023], [4.803, 82.064, 0.162], [4.965, 74.125, 0.186], [5.151, 85.967, 0.325], [5.476, 69.039, 0.023], [5.476, 84.301, 0.023], [5.499, 77.798, 0.046], [5.499, 81.039, 0.046], [5.499, 83.948, 0.046], [5.545, 69.039, 0.464], [6.009, 69.039, 0.882], [6.891, 89.281, 0.023], [6.914, 89.017, 0.023], [6.937, 72.125, 1.578], [8.515, 72.125, 0.302], [8.817, 89.281, 0.046], [8.863, 89.017, 0.255], [9.118, 91.027], [9.165, 84.301], [9.211, 83.948], [9.35, 89.281], [9.374, 89.017], [9.536, 81.249], [9.582, 72.125], [9.745, 81.039], [9.907, 77.017], [9.907, 77.798]]\n"
     ]
    }
   ],
   "source": [
    "note_info = []\n",
    "tuple_list = []\n",
    "for n in range(n_components):\n",
    "    spectral = W[:,n]\n",
    "    temporal = H[n]\n",
    "\n",
    "    onsets_ = librosa.util.peak_pick(temporal,pre_max = 6, post_max=6,pre_avg=50, post_avg=50,delta=temporal.max()/2,wait=0)\n",
    "\n",
    "    #print(librosa.hz_to_midi(np.argmax(spectral) * 11025/1025))  #can detect half the sampling frequency\n",
    "    n = librosa.hz_to_midi(np.argmax(spectral) * 11025/1025)\n",
    "    for o in onsets_:\n",
    "        tuple_list += [[round(o*10/431,3),round(n,3)]]\n",
    "    #print(librosa.hz_to_note(np.argmax(spectral) * 11025/1025))  #can detect half the sampling frequency\n",
    "    #print(onsets_ * 10/431)\n",
    "sorted_list = sorted(tuple_list)\n",
    "big_dictionary = \"\"\n",
    "durations = []\n",
    "for i in range(len(sorted_list)-10):\n",
    "   for j in range(10):\n",
    "        duration = -sorted_list[i+j][0] + sorted_list[i+1+j][0]\n",
    "        if duration != 0:\n",
    "            break\n",
    "   sorted_list[i] += [round(duration,3)]\n",
    "   #dictonary = {\n",
    "    #\"time\":sorted_list[i][0],\n",
    "    #\"duration\": duration,\n",
    "    #\"pitch\": sorted_list[i][1],\n",
    "    #\"velocity\": 64\n",
    "   #}\n",
    "   #big_dictionary += str(dictonary) + \",\"\n",
    "print(sorted_list)\n"
   ]
  },
  {
   "cell_type": "code",
   "execution_count": 65,
   "metadata": {},
   "outputs": [],
   "source": [
    "tempos = \"tempos: \" + str([{\"time\": 0, \"qpm\":tempo}])\n",
    "res = tempos +  \" tracks: [\" + big_dictionary + \"]\"\n",
    "js = json.loads(json.dumps(res))\n",
    "with open(\"sample.json\", \"w\") as outfile:\n",
    "    json.dump(js, outfile)"
   ]
  },
  {
   "cell_type": "code",
   "execution_count": null,
   "metadata": {},
   "outputs": [],
   "source": [
    " #s = music21.stream.Stream()\n",
    " #s.append(music21.key.Key('E-'))\n",
    " #s.append(music21.meter.TimeSignature('2/4'))\n",
    " #s.append(music21.note.Rest(quarterLength=0.5))\n",
    " #s.append(music21.note.Note('g', quarterLength=0.5))\n",
    " #s.append(music21.note.Note('e'))\n",
    " #s.append(music21.note.Note('g', quarterLength=0.5))\n",
    " #s.append(music21.note.Note('g', quarterLength=0.5))\n",
    " #s.append(music21.note.Note('e-', quarterLength=2))\n",
    "\n",
    " #s.show('text')"
   ]
  },
  {
   "cell_type": "code",
   "execution_count": null,
   "metadata": {},
   "outputs": [],
   "source": [
    "hop_length = 1024\n",
    "tempo, beats=librosa.beat.beat_track(y=None, sr=sr, onset_envelope=onsets, hop_length=hop_length,\n",
    "               start_bpm=120.0, tightness=100, trim=True, bpm=None,\n",
    "               units='frames')\n",
    "tempo=int(2*round(tempo/2))\n",
    "mm = MetronomeMark(referent='quarter', number=tempo)"
   ]
  },
  {
   "cell_type": "code",
   "execution_count": null,
   "metadata": {},
   "outputs": [],
   "source": [
    "s = Stream()\n",
    "s.append(mm)\n",
    "#electricguitar = instrument.fromString('electric guitar')\n",
    "#electricguitar.midiChannel=0\n",
    "#electricguitar.midiProgram=30  #Set program to Overdriven Guitar\n",
    "#s.append(electricguitar)\n",
    "s.insert(0, metadata.Metadata())\n",
    "for note in note_info:\n",
    "    s.append(note)"
   ]
  }
 ],
 "metadata": {
  "kernelspec": {
   "display_name": "Python 3 (ipykernel)",
   "language": "python",
   "name": "python3"
  },
  "language_info": {
   "codemirror_mode": {
    "name": "ipython",
    "version": 3
   },
   "file_extension": ".py",
   "mimetype": "text/x-python",
   "name": "python",
   "nbconvert_exporter": "python",
   "pygments_lexer": "ipython3",
   "version": "3.10.6"
  },
  "vscode": {
   "interpreter": {
    "hash": "1050e8b479235782e4d6d90769b938c367a4c9da568345302f93cf8965444a48"
   }
  }
 },
 "nbformat": 4,
 "nbformat_minor": 2
}
