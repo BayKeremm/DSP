{
 "cells": [
  {
   "cell_type": "markdown",
   "metadata": {},
   "source": [
    "# Tutorial\n",
    "Put together by Kerem Okyay\\\n",
    "Sources: \n",
    "https://ccrma.stanford.edu/~njb/teaching/sstutorial/part2.pdf\\\n",
    "https://musicinformationretrieval.com\n",
    "\n"
   ]
  },
  {
   "cell_type": "markdown",
   "metadata": {},
   "source": [
    "**decompose a matrix as a product of two or more matrices** \n",
    "\n",
    "                                    V = HW\n",
    "- A is the data, audio spectrogram.(FxT)\n",
    "- W is the basis vectors or dictionary. A single column is referred to as a basis vector. (FxK)\n",
    "- H is the weights or the activation matrix. A row of H represents the gain of the corresponding basis vector. (KxT)\n",
    "\n",
    "\n",
    "Columns of V as weighted sum of basis vectors."
   ]
  },
  {
   "cell_type": "code",
   "execution_count": null,
   "metadata": {},
   "outputs": [],
   "source": [
    "%matplotlib inline\n",
    "import librosa\n",
    "import librosa.display\n",
    "import matplotlib.pyplot as plt\n",
    "import IPython.display as ipd\n",
    "import numpy as np\n",
    "import scipy\n",
    "import soundfile as sf"
   ]
  },
  {
   "cell_type": "code",
   "execution_count": null,
   "metadata": {},
   "outputs": [],
   "source": [
    "x, fs = librosa.load(\"../data/grandpiano.wav\",duration=6)\n",
    "ipd.Audio(x,rate=fs)"
   ]
  },
  {
   "cell_type": "code",
   "execution_count": null,
   "metadata": {},
   "outputs": [],
   "source": [
    "plt.figure(figsize=(14,5))\n",
    "librosa.display.waveshow(x,sr=fs)"
   ]
  },
  {
   "cell_type": "code",
   "execution_count": null,
   "metadata": {},
   "outputs": [],
   "source": [
    "print(x.shape)\n",
    "print(fs)"
   ]
  },
  {
   "cell_type": "markdown",
   "metadata": {},
   "source": [
    "### Short-Time Fourier Transform (STFT)\n",
    "inputs time domain signal x\\\n",
    "outputs Magnitude |X| and phase <X matrices"
   ]
  },
  {
   "cell_type": "markdown",
   "metadata": {},
   "source": [
    "The **short-time Fourier transform (STFT)** ([Wikipedia](https://en.wikipedia.org/wiki/Short-time_Fourier_transform); FMP, p. 53) is obtained by computing the Fourier transform for successive frames in a signal. \n",
    "\n",
    "$$ X(m, \\omega) = \\sum_n x(n) w(n-m) e^{-j \\omega n} $$"
   ]
  },
  {
   "cell_type": "markdown",
   "metadata": {},
   "source": [
    "As we increase $m$, we slide the window function $w$ to the right. For the resulting frame, $x(n) w(n-m)$, we compute the Fourier transform. Therefore, the STFT $X$ is a function of both time, $m$, and frequency, $\\omega$."
   ]
  },
  {
   "cell_type": "code",
   "execution_count": null,
   "metadata": {},
   "outputs": [],
   "source": [
    "X = librosa.stft(x)\n",
    "# defaults: \n",
    "# n_fft(length of windowed signal after padding with zeros):2048\n",
    "# hop_length(number of audio samples between adjacent STFT colums): win_length // 4\n",
    "# win_length(each frame of audio is windowed by window of length win_length\n",
    "# and them padded with zeros to match n_fft): n_fft = 2048\n",
    "# window: scipy.signal.windows.hann"
   ]
  },
  {
   "cell_type": "markdown",
   "metadata": {},
   "source": [
    "### Spectrogram\n",
    "In music processing, we often only care about the spectral magnitude and not the phase content.\n",
    "\n",
    "The **spectrogram** ([Wikipedia](https://en.wikipedia.org/wiki/Spectrogram); FMP, p. 29, 55) shows the the intensity of frequencies over time. A spectrogram is simply the squared magnitude of the STFT:\n",
    "\n",
    "$$ S(m, \\omega) = \\left| X(m, \\omega) \\right|^2 $$"
   ]
  },
  {
   "cell_type": "code",
   "execution_count": null,
   "metadata": {},
   "outputs": [],
   "source": [
    "Xdb = librosa.amplitude_to_db(abs(X))\n",
    "plt.figure(figsize=(14,5))\n",
    "librosa.display.specshow(Xdb, sr=fs, x_axis='time', y_axis='hz')"
   ]
  },
  {
   "cell_type": "markdown",
   "metadata": {},
   "source": [
    " ### NMF\n",
    " inputs |X|, outputs W and H"
   ]
  },
  {
   "cell_type": "markdown",
   "metadata": {},
   "source": [
    "[Nonnegative matrix factorization](https://en.wikipedia.org/wiki/Non-negative_matrix_factorization) (NMF) is an algorithm that factorizes a nonnegative matrix, $X$, into a product of two nonnegative matrices, $W$ and $H$. It is an unsupervised iterative algorithm that minimizes a distance between $X$ and the product $WH$:\n",
    "\n",
    "$$ \\min_{W, H} d(X, WH) $$"
   ]
  },
  {
   "cell_type": "markdown",
   "metadata": {},
   "source": [
    "If $X$ has dimensions $M$ by $N$, then $W$ will have dimensions $M$ by $R$, and $H$ will have dimensions $R$ by $N$, where inner dimension $R$ is the *rank* or *number of components* of the decomposition."
   ]
  },
  {
   "cell_type": "markdown",
   "metadata": {},
   "source": [
    "When applied to a musical signal, we find that NMF can decompose the signal into separate note events. Therefore, NMF is quite useful and popular for tasks such as transcription and source separation.\n",
    "\n",
    "The input, $X$, is often a magnitude spectrogram. In such a case, we find that the columns of $W$ represent spectra of note events, and the rows of $H$ represent temporal envelopes of the same note events."
   ]
  },
  {
   "cell_type": "code",
   "execution_count": null,
   "metadata": {},
   "outputs": [],
   "source": [
    "X_mag, X_phase = librosa.magphase(X)\n",
    "n_components = 10 # change this to better understand what happens\n",
    "W, H = librosa.decompose.decompose(X_mag,n_components=n_components, sort=True)"
   ]
  },
  {
   "cell_type": "markdown",
   "metadata": {},
   "source": [
    "## Notice how similar the following plot to a piano roll represantation.\n",
    "## These are the weights plotted against time.\n",
    "\n",
    "However i do not understand fully what is the unit of the y axis\n"
   ]
  },
  {
   "cell_type": "code",
   "execution_count": null,
   "metadata": {},
   "outputs": [],
   "source": [
    "plt.figure(figsize=(14,5))\n",
    "librosa.display.specshow(librosa.amplitude_to_db(np.dot(W,H)), sr=fs, x_axis='time', y_axis='hz')\n",
    "# hz is the midi pitch 22 45 45 8 62 62\n",
    "H.shape"
   ]
  },
  {
   "cell_type": "code",
   "execution_count": null,
   "metadata": {},
   "outputs": [],
   "source": [
    "# these are the basis vectors plotted against time \n",
    "Wdb = librosa.amplitude_to_db(W)\n",
    "plt.figure(figsize=(14,5))\n",
    "librosa.display.specshow(Wdb, sr=fs, x_axis='time', y_axis='hz')"
   ]
  },
  {
   "cell_type": "code",
   "execution_count": null,
   "metadata": {},
   "outputs": [],
   "source": [
    "print(X.shape)\n",
    "print(W.shape)\n",
    "print(H.shape)"
   ]
  },
  {
   "cell_type": "markdown",
   "metadata": {},
   "source": [
    "Let's display the spectral profiles(basis vectors), $\\{w_1, ..., w_R\\}$:\n"
   ]
  },
  {
   "cell_type": "code",
   "execution_count": null,
   "metadata": {},
   "outputs": [],
   "source": [
    "plt.figure(figsize=(13, 7))\n",
    "for n in range(n_components):\n",
    "    plt.subplot(5, 2, n+1)\n",
    "    plt.plot(W[:,n])\n",
    "    plt.ylim(-3, W.max())\n",
    "    plt.xlim(0, W.shape[0])\n",
    "    plt.ylabel('Component %d' % n)\n",
    "    print(np.argmax(W[:,n]) * 11025/1025) # fs = 22050, only up to fs/2 can be detected properly"
   ]
  },
  {
   "cell_type": "code",
   "execution_count": null,
   "metadata": {},
   "outputs": [],
   "source": [
    "print(W.max())"
   ]
  },
  {
   "cell_type": "markdown",
   "metadata": {},
   "source": [
    "Let's display the temporal activations(gains corresponding with basis vectors), $\\{h_1, ..., h_R\\}$:"
   ]
  },
  {
   "cell_type": "code",
   "execution_count": null,
   "metadata": {},
   "outputs": [],
   "source": [
    "plt.figure(figsize=(13, 7))\n",
    "for n in range(n_components):\n",
    "    plt.subplot(5, 2, n+1)\n",
    "    plt.plot(H[n])\n",
    "    plt.ylim(0, H.max())\n",
    "    plt.xlim(0, H.shape[1])\n",
    "    plt.ylabel('Component %d' % n)"
   ]
  },
  {
   "cell_type": "markdown",
   "metadata": {},
   "source": [
    "### FILTER and Inverse Short-Time Fourier Transform (ISTFT)\n",
    "FILTER\\\n",
    "choose a subset of basis vectors Ws and activations Hs to reconstruct source s\\\n",
    "ISTFT\\\n",
    "inputs |X| and phase <X matrices\\\n",
    "outputs time domain signal x"
   ]
  },
  {
   "cell_type": "code",
   "execution_count": null,
   "metadata": {},
   "outputs": [],
   "source": [
    "Y = np.dot(W[:0], H[0:])\n",
    "print(W.shape)\n",
    "print(W[:,0].shape)\n",
    "print(H[0].shape)\n",
    "print(X_phase.shape)"
   ]
  },
  {
   "cell_type": "code",
   "execution_count": null,
   "metadata": {},
   "outputs": [],
   "source": [
    "def generate_sine(f0, sr, n_duration):\n",
    "    n = np.arange(n_duration)\n",
    "    return 0.2*np.sin(2*np.pi*f0*n/float(sr))"
   ]
  },
  {
   "cell_type": "code",
   "execution_count": null,
   "metadata": {},
   "outputs": [],
   "source": [
    "def estimate_pitch_and_generate_sine(x, onset_samples,f0, i, sr):\n",
    "    n0 = onset_samples[i]\n",
    "    n1 = onset_samples[i+1]\n",
    "    return generate_sine(f0, sr, n1-n0)"
   ]
  },
  {
   "cell_type": "code",
   "execution_count": null,
   "metadata": {},
   "outputs": [],
   "source": [
    "for n in range(n_components):\n",
    "    \n",
    "    # Re-create the STFT of a single NMF component. row of W with the column of H\n",
    "    Y = np.outer(W[:,n],H[n]) \n",
    "    plt.figure(figsize=(14,5))\n",
    "    #librosa.display.specshow(Y, sr=fs, x_axis='time', y_axis='hz')\n",
    "\n",
    "    # Transform the STFT into the time domain.\n",
    "    y = librosa.istft(Y* X_phase)\n",
    "    # APPLY fast NLS estimator on this y\n",
    "\n",
    "    f0 = np.argmax(W[:,n]) * 11025/1025 # fs = 22050, only up to fs/2 can be detected properly\n",
    "\n",
    "    \n",
    "    print('Component {}:'.format(n))\n",
    "    #ipd.display( ipd.Audio(y, rate=fs) )"
   ]
  },
  {
   "cell_type": "code",
   "execution_count": null,
   "metadata": {},
   "outputs": [],
   "source": [
    "Y = np.dot(W, H)*X_phase\n",
    "\n",
    "# Transform the STFT into the time domain.\n",
    "reconstructed_signal = librosa.istft(Y, length=len(x))\n",
    "ipd.Audio(reconstructed_signal, rate=fs)\n",
    "#librosa.display.waveshow(reconstructed_signal,sr=fs,)\n",
    "#error\n",
    "librosa.display.waveshow(x-reconstructed_signal,sr=fs)"
   ]
  },
  {
   "cell_type": "code",
   "execution_count": null,
   "metadata": {},
   "outputs": [],
   "source": [
    "librosa.display.waveshow(x,sr=fs)\n",
    "librosa.display.waveshow(reconstructed_signal,sr=fs)"
   ]
  },
  {
   "cell_type": "code",
   "execution_count": null,
   "metadata": {},
   "outputs": [],
   "source": [
    "residual = x - reconstructed_signal\n",
    "residual[0] = 1 # hack to prevent automatic gain scaling\n",
    "#ipd.Audio(residual, rate=fs)\n",
    "ipd.Audio(x, rate=fs)\n"
   ]
  }
 ],
 "metadata": {
  "kernelspec": {
   "display_name": "Python 3.10.6 ('spai')",
   "language": "python",
   "name": "python3"
  },
  "language_info": {
   "codemirror_mode": {
    "name": "ipython",
    "version": 3
   },
   "file_extension": ".py",
   "mimetype": "text/x-python",
   "name": "python",
   "nbconvert_exporter": "python",
   "pygments_lexer": "ipython3",
   "version": "3.10.6"
  },
  "orig_nbformat": 4,
  "vscode": {
   "interpreter": {
    "hash": "1050e8b479235782e4d6d90769b938c367a4c9da568345302f93cf8965444a48"
   }
  }
 },
 "nbformat": 4,
 "nbformat_minor": 2
}
